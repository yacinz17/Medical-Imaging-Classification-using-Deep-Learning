{
 "cells": [
  {
   "cell_type": "markdown",
   "id": "68f2a364",
   "metadata": {},
   "source": [
    "# Medical Imaging Classification (CNN)\n",
    "\n",
    "**Overview:**\n",
    "- Dataset: download from Kaggle or use fallback sample (MRI/brain tumor dataset recommended)\n",
    "- Steps: download → load → preprocess → build CNN → train → evaluate\n",
    "\n",
    "**Instructions:**\n",
    "- To download from Kaggle, upload your `kaggle.json` to this environment and run the Kaggle cell below.\n"
   ]
  },
  {
   "cell_type": "code",
   "execution_count": null,
   "id": "eafd0009",
   "metadata": {},
   "outputs": [],
   "source": [
    "# Kaggle download (run this if you have kaggle.json available)\n",
    "# 1) pip install kaggle\n",
    "# 2) mkdir -p ~/.kaggle && cp kaggle.json ~/.kaggle/ && chmod 600 ~/.kaggle/kaggle.json\n",
    "# 3) kaggle datasets download -d <dataset-owner/dataset-name> -p ./data --unzip\n",
    "\n",
    "# Fallback: use CIFAR-10 or a small sample if Kaggle is not configured\n",
    "import os\n",
    "os.makedirs('data', exist_ok=True)\n",
    "print('Place dataset in ./data or use Kaggle CLI to download into ./data')\n"
   ]
  },
  {
   "cell_type": "code",
   "execution_count": null,
   "id": "547aac83",
   "metadata": {},
   "outputs": [],
   "source": [
    "## Imports\n",
    "import numpy as np\n",
    "import tensorflow as tf\n",
    "from tensorflow.keras import layers, models\n",
    "from tensorflow.keras.preprocessing.image import ImageDataGenerator\n",
    "import matplotlib.pyplot as plt\n"
   ]
  },
  {
   "cell_type": "markdown",
   "id": "dd14e3c9",
   "metadata": {},
   "source": [
    "## Data loading\n",
    "- Replace this cell with code to load your Kaggle dataset from `./data`.\n",
    "- Example below uses CIFAR-10 as a placeholder."
   ]
  },
  {
   "cell_type": "code",
   "execution_count": null,
   "id": "1dc64c62",
   "metadata": {},
   "outputs": [],
   "source": [
    "# Example placeholder: CIFAR-10 loader (use if Kaggle dataset not present)\n",
    "from tensorflow.keras.datasets import cifar10\n",
    "(x_train, y_train), (x_test, y_test) = cifar10.load_data()\n",
    "# Convert to binary problem for demo (class 0 vs not)\n",
    "y_train_bin = (y_train.flatten() == 0).astype(int)\n",
    "y_test_bin = (y_test.flatten() == 0).astype(int)\n",
    "# Normalize\n",
    "x_train = x_train.astype('float32')/255.0\n",
    "x_test = x_test.astype('float32')/255.0\n",
    "x_train.shape, x_test.shape, np.unique(y_train_bin)\n"
   ]
  },
  {
   "cell_type": "markdown",
   "id": "44dc9b38",
   "metadata": {},
   "source": [
    "## Build simple CNN model"
   ]
  },
  {
   "cell_type": "code",
   "execution_count": null,
   "id": "d26b9016",
   "metadata": {},
   "outputs": [],
   "source": [
    "model = models.Sequential([\n",
    "    layers.Conv2D(32, (3,3), activation='relu', input_shape=x_train.shape[1:]),\n",
    "    layers.MaxPooling2D((2,2)),\n",
    "    layers.Conv2D(64, (3,3), activation='relu'),\n",
    "    layers.MaxPooling2D((2,2)),\n",
    "    layers.Flatten(),\n",
    "    layers.Dense(64, activation='relu'),\n",
    "    layers.Dense(1, activation='sigmoid')\n",
    "])\n",
    "model.compile(optimizer='adam', loss='binary_crossentropy', metrics=['accuracy'])\n",
    "model.summary()\n"
   ]
  },
  {
   "cell_type": "code",
   "execution_count": null,
   "id": "b8414246",
   "metadata": {},
   "outputs": [],
   "source": [
    "history = model.fit(x_train, y_train_bin, epochs=3, batch_size=64, validation_split=0.1)\n"
   ]
  },
  {
   "cell_type": "code",
   "execution_count": null,
   "id": "02b31b4c",
   "metadata": {},
   "outputs": [],
   "source": [
    "loss, acc = model.evaluate(x_test, y_test_bin)\n",
    "print('Test accuracy:', acc)\n"
   ]
  },
  {
   "cell_type": "markdown",
   "id": "b6c71d90",
   "metadata": {},
   "source": [
    "## Notes\n",
    "- Replace CIFAR-10 code with your medical imaging loading pipeline (resize, grayscale/RGB handling, augmentation).\n",
    "- For large datasets, use transfer learning (e.g., MobileNetV2, EfficientNet) and fine-tune.\n"
   ]
  }
 ],
 "metadata": {},
 "nbformat": 4,
 "nbformat_minor": 5
}
